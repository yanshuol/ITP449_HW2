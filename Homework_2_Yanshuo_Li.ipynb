{
  "nbformat": 4,
  "nbformat_minor": 0,
  "metadata": {
    "colab": {
      "name": "HW2_Yanshuo_Li.ipynb",
      "provenance": [],
      "collapsed_sections": []
    },
    "kernelspec": {
      "name": "python3",
      "display_name": "Python 3"
    }
  },
  "cells": [
    {
      "cell_type": "markdown",
      "metadata": {
        "id": "bNsIruOzI4iF"
      },
      "source": [
        "## **Homework 2**\n",
        "\n",
        "### Create a copy of the notebook to start answering the questions. Name your notebook in the format HW2_lastname_firstname.ipynb to facilitate the grading process. \n",
        "\n",
        "### Answer all the questions, test your code to ensure there are no errors and the results are as expected. Once you have answered all the questions, save the final copy, then go to File-> click on Download.ipynb. Once the local copy has been downloaded, submit your file on Blackboard under the corresponding assignment section. Also provide us a link to your notebook during submission. \n",
        "\n",
        "### **The due date of this homework is 02/12/2021 (Friday).**\n",
        "\n",
        "### Please ensure you follow all the steps mentioned in the homework.\n",
        "\n",
        "### All the questions have a sample input and output to help you understand the question.\n",
        "\n",
        "### You can submit your solutions any number of times until the deadline.\n"
      ]
    },
    {
      "cell_type": "markdown",
      "metadata": {
        "id": "U3Yz3s2uio1F"
      },
      "source": [
        "**Q1. Lets consider your data is like the below cell:**\n",
        "\n",
        "**Q1-1**: Write a program that create a dataframe from the data.\n",
        "\n",
        "**Q1-2:** Select people that are psychologist or teacher and their number of cars is greater than their family size.\n",
        "\n",
        "**Q1-3:** Select people who have at most 2 family members and at least 1 car.\n",
        "\n",
        "**Q1-4:** Write a code that get number of unique jobs in this dataset.\n",
        "\n",
        "\n",
        "\n"
      ]
    },
    {
      "cell_type": "code",
      "metadata": {
        "id": "yR8lcOtcjxXD"
      },
      "source": [
        "data = {\"name\": [\"Joseph\", \"Jacob\", \"Sam\", \"Jesee\", \"Ryan\", \"Lisa\", \"Lee\"],\n",
        "        \"job\": [\"teacher\", \"psychologist\", \"data scientist\", \"software developer\", \"psychologist\", \"psychologist\", \"teacher\"],\n",
        "        \"family_size\": [3, 2, 1, 4, 2, 3, 2],\n",
        "        \"num_cars\": [3, 1, 1, 2, 2, 4, 1]}"
      ],
      "execution_count": 5,
      "outputs": []
    },
    {
      "cell_type": "code",
      "metadata": {
        "id": "Youi5qMaP34p",
        "colab": {
          "base_uri": "https://localhost:8080/",
          "height": 216
        },
        "outputId": "b305d7fe-7d8e-41a7-a835-424e117df568"
      },
      "source": [
        "# Type your solution here\n",
        "import numpy as np\n",
        "import pandas as pd\n",
        "# Q1-1: Write a program that create a dataframe from the data.\n",
        "frame = pd.DataFrame(data)\n",
        "print(frame)\n",
        "# Q1-2: Select people that are psychologist or teacher and their number of cars is greater than their family size.\n",
        "frame[((frame[\"job\"] == \"psychologist\") | (frame[\"job\"] == \"teacher\")) & (frame[\"num_cars\"]>frame[\"family_size\"])]"
      ],
      "execution_count": 6,
      "outputs": [
        {
          "output_type": "stream",
          "text": [
            "     name                 job  family_size  num_cars\n",
            "0  Joseph             teacher            3         3\n",
            "1   Jacob        psychologist            2         1\n",
            "2     Sam      data scientist            1         1\n",
            "3   Jesee  software developer            4         2\n",
            "4    Ryan        psychologist            2         2\n",
            "5    Lisa        psychologist            3         4\n",
            "6     Lee             teacher            2         1\n"
          ],
          "name": "stdout"
        },
        {
          "output_type": "execute_result",
          "data": {
            "text/html": [
              "<div>\n",
              "<style scoped>\n",
              "    .dataframe tbody tr th:only-of-type {\n",
              "        vertical-align: middle;\n",
              "    }\n",
              "\n",
              "    .dataframe tbody tr th {\n",
              "        vertical-align: top;\n",
              "    }\n",
              "\n",
              "    .dataframe thead th {\n",
              "        text-align: right;\n",
              "    }\n",
              "</style>\n",
              "<table border=\"1\" class=\"dataframe\">\n",
              "  <thead>\n",
              "    <tr style=\"text-align: right;\">\n",
              "      <th></th>\n",
              "      <th>name</th>\n",
              "      <th>job</th>\n",
              "      <th>family_size</th>\n",
              "      <th>num_cars</th>\n",
              "    </tr>\n",
              "  </thead>\n",
              "  <tbody>\n",
              "    <tr>\n",
              "      <th>5</th>\n",
              "      <td>Lisa</td>\n",
              "      <td>psychologist</td>\n",
              "      <td>3</td>\n",
              "      <td>4</td>\n",
              "    </tr>\n",
              "  </tbody>\n",
              "</table>\n",
              "</div>"
            ],
            "text/plain": [
              "   name           job  family_size  num_cars\n",
              "5  Lisa  psychologist            3         4"
            ]
          },
          "metadata": {
            "tags": []
          },
          "execution_count": 6
        }
      ]
    },
    {
      "cell_type": "code",
      "metadata": {
        "colab": {
          "base_uri": "https://localhost:8080/",
          "height": 173
        },
        "id": "i-NipUqGNCEY",
        "outputId": "93d7498b-eb60-4311-ea49-7ebb55f68354"
      },
      "source": [
        "# Q1-3: Select people who have at most 2 family members and at least 1 car.\n",
        "frame[\"family_size\"] = frame[\"family_size\"].astype(str)\n",
        "frame[\"num_cars\"] = frame[\"num_cars\"].astype(str)\n",
        "frame[((frame[\"family_size\"] <= \"2\") & (frame[\"num_cars\"] >= \"1\"))]"
      ],
      "execution_count": 7,
      "outputs": [
        {
          "output_type": "execute_result",
          "data": {
            "text/html": [
              "<div>\n",
              "<style scoped>\n",
              "    .dataframe tbody tr th:only-of-type {\n",
              "        vertical-align: middle;\n",
              "    }\n",
              "\n",
              "    .dataframe tbody tr th {\n",
              "        vertical-align: top;\n",
              "    }\n",
              "\n",
              "    .dataframe thead th {\n",
              "        text-align: right;\n",
              "    }\n",
              "</style>\n",
              "<table border=\"1\" class=\"dataframe\">\n",
              "  <thead>\n",
              "    <tr style=\"text-align: right;\">\n",
              "      <th></th>\n",
              "      <th>name</th>\n",
              "      <th>job</th>\n",
              "      <th>family_size</th>\n",
              "      <th>num_cars</th>\n",
              "    </tr>\n",
              "  </thead>\n",
              "  <tbody>\n",
              "    <tr>\n",
              "      <th>1</th>\n",
              "      <td>Jacob</td>\n",
              "      <td>psychologist</td>\n",
              "      <td>2</td>\n",
              "      <td>1</td>\n",
              "    </tr>\n",
              "    <tr>\n",
              "      <th>2</th>\n",
              "      <td>Sam</td>\n",
              "      <td>data scientist</td>\n",
              "      <td>1</td>\n",
              "      <td>1</td>\n",
              "    </tr>\n",
              "    <tr>\n",
              "      <th>4</th>\n",
              "      <td>Ryan</td>\n",
              "      <td>psychologist</td>\n",
              "      <td>2</td>\n",
              "      <td>2</td>\n",
              "    </tr>\n",
              "    <tr>\n",
              "      <th>6</th>\n",
              "      <td>Lee</td>\n",
              "      <td>teacher</td>\n",
              "      <td>2</td>\n",
              "      <td>1</td>\n",
              "    </tr>\n",
              "  </tbody>\n",
              "</table>\n",
              "</div>"
            ],
            "text/plain": [
              "    name             job family_size num_cars\n",
              "1  Jacob    psychologist           2        1\n",
              "2    Sam  data scientist           1        1\n",
              "4   Ryan    psychologist           2        2\n",
              "6    Lee         teacher           2        1"
            ]
          },
          "metadata": {
            "tags": []
          },
          "execution_count": 7
        }
      ]
    },
    {
      "cell_type": "code",
      "metadata": {
        "colab": {
          "base_uri": "https://localhost:8080/"
        },
        "id": "86k8_VwlNTt_",
        "outputId": "7950cce2-94d9-4a1c-f960-a1b298815cdf"
      },
      "source": [
        "# Q1-4: Write a code that get number of unique jobs in this dataset.\n",
        "unique = frame[\"job\"].nunique()\n",
        "print(\"Number of unique jobs:\", unique, end=\"\\n\\n\")\n",
        "print(\"Following are specific numbers of each job:\")\n",
        "count = frame[\"job\"].value_counts()\n",
        "print(count)"
      ],
      "execution_count": 8,
      "outputs": [
        {
          "output_type": "stream",
          "text": [
            "Number of unique jobs: 4\n",
            "\n",
            "Following are specific numbers of each job:\n",
            "psychologist          3\n",
            "teacher               2\n",
            "data scientist        1\n",
            "software developer    1\n",
            "Name: job, dtype: int64\n"
          ],
          "name": "stdout"
        }
      ]
    },
    {
      "cell_type": "markdown",
      "metadata": {
        "id": "Ow6nG8k4l91X"
      },
      "source": [
        "**Q2. Lets consider you have two series like the below cell. Compute the mean of weights of each fruit.**"
      ]
    },
    {
      "cell_type": "code",
      "metadata": {
        "id": "u-X_DoOzVLLB"
      },
      "source": [
        "import numpy as np\n",
        "fruit = pd.Series(np.random.choice(['apple', 'banana', 'carrot'], 10))\n",
        "weights = pd.Series(np.linspace(1, 10, 10))"
      ],
      "execution_count": 12,
      "outputs": []
    },
    {
      "cell_type": "code",
      "metadata": {
        "id": "S419nzYnpU__",
        "colab": {
          "base_uri": "https://localhost:8080/"
        },
        "outputId": "1f43613b-2160-4212-b917-293d86cc12a6"
      },
      "source": [
        "# Type your solution here\n",
        "# dict1 = fruit.value_counts().to_json()\n",
        "# dict2 = weights.to_json()\n",
        "print(\"The following are means of weights of each fruit:\")\n",
        "mean = weights.groupby(fruit).mean()\n",
        "print(mean)"
      ],
      "execution_count": 20,
      "outputs": [
        {
          "output_type": "stream",
          "text": [
            "The following are means of weights of each fruit:\n",
            "apple     7.250000\n",
            "banana    3.666667\n",
            "carrot    5.000000\n",
            "dtype: float64\n"
          ],
          "name": "stdout"
        }
      ]
    },
    {
      "cell_type": "markdown",
      "metadata": {
        "id": "g4lKaPIhtVrt"
      },
      "source": [
        "**Q3. Consider the below course_name array:**\n",
        "\n",
        "**Q3-1**: Write a NumPy program to get the indices of the sorted elements of **course_name** array.\n",
        "\n",
        "**Q3-2:** Write numpy code to check whether each element of **course_name** array starts with \"P\".\n"
      ]
    },
    {
      "cell_type": "code",
      "metadata": {
        "id": "RUP_jp2KtVrx"
      },
      "source": [
        "import numpy as np\n",
        "course_name = np.array(['Python', 'JS', 'examples', 'PHP', 'html'])"
      ],
      "execution_count": null,
      "outputs": []
    },
    {
      "cell_type": "code",
      "metadata": {
        "id": "U1i27POxv-o_",
        "colab": {
          "base_uri": "https://localhost:8080/"
        },
        "outputId": "9c16f6d8-dacb-43de-ba61-64ac54ccb704"
      },
      "source": [
        "# Type your solution here\n",
        "# Q3-1: Write a NumPy program to get the indices of the sorted elements of course_name array.\n",
        "indicies = np.argsort(course_name)\n",
        "print(\"Indices of the sorted elements of course_name array:\")\n",
        "print(indicies, end=\"\\n\\n\")\n",
        "# Q3-2: Write numpy code to check whether each element of course_name array starts with \"P\".\n",
        "checker = np.char.startswith(course_name, \"P\")\n",
        "print(\"Result of checking whether each element of course_name array starts with 'P': \")\n",
        "print(checker)"
      ],
      "execution_count": null,
      "outputs": [
        {
          "output_type": "stream",
          "text": [
            "Indices of the sorted elements of course_name array:\n",
            "[1 3 0 2 4]\n",
            "\n",
            "Result of checking whether each element of course_name array starts with 'P': \n",
            "[ True False False  True False]\n"
          ],
          "name": "stdout"
        }
      ]
    },
    {
      "cell_type": "markdown",
      "metadata": {
        "id": "sUFItNFOxwkz"
      },
      "source": [
        "**Q4. Consider the below student_id array:**\n",
        "\n",
        "**Q4-1:** Reverse the **student_id** array. Print both original and reversed array.\n",
        "\n",
        "**Q4-2:** Get the 3-largest values of **student_id** array."
      ]
    },
    {
      "cell_type": "code",
      "metadata": {
        "id": "Rl5qzEjFv0nw"
      },
      "source": [
        "import numpy as np\n",
        "student_id = np.array([1023, 5202, 6230, 1671, 1682, 5241, 4532])"
      ],
      "execution_count": null,
      "outputs": []
    },
    {
      "cell_type": "code",
      "metadata": {
        "id": "EetvHGrUxMCC",
        "colab": {
          "base_uri": "https://localhost:8080/"
        },
        "outputId": "f93991cc-8ca3-4057-c4be-dfee8aa1974c"
      },
      "source": [
        "# Type your solution here\n",
        "# Q4-1: Reverse the student_id array. Print both original and reversed array.\n",
        "reverse = student_id[::-1]\n",
        "print(\"array:\", student_id, \"\\nreverse array:\", reverse, end=\"\\n\\n\")\n",
        "# Q4-2: Get the 3-largest values of student_id array.\n",
        "sorted = np.sort(reverse)\n",
        "result = sorted[len(sorted)-3:]\n",
        "print(\"The 3-largest values of student_id array are:\", result)"
      ],
      "execution_count": null,
      "outputs": [
        {
          "output_type": "stream",
          "text": [
            "array: [6230 5241 5202 4532 1682 1671 1023] \n",
            "reverse array: [1023 1671 1682 4532 5202 5241 6230]\n",
            "\n",
            "The 3-largest values of student_id array are: [5202 5241 6230]\n"
          ],
          "name": "stdout"
        }
      ]
    },
    {
      "cell_type": "markdown",
      "metadata": {
        "id": "uKRyDVuW6B19"
      },
      "source": [
        "# **Q5: Write a numpy program to print sum of all the multiples of 3 or 5 below 100**"
      ]
    },
    {
      "cell_type": "code",
      "metadata": {
        "id": "ZIixq1gz6OK3",
        "colab": {
          "base_uri": "https://localhost:8080/"
        },
        "outputId": "3fba3793-0f38-4e77-c1a2-e1cb6fa0d9b7"
      },
      "source": [
        "# Type your solution here\n",
        "# Hint: you can use arange to start off\n",
        "import numpy as np\n",
        "range = np.arange(1,100)\n",
        "three_multiples = range[(range % 3 == 0)]\n",
        "print(\"All the multiples of 3:\", three_multiples)\n",
        "three_sum = three_multiples.sum()\n",
        "print(\"Sum of all the multiples of 3:\", three_sum, \"\\n\\n\")\n",
        "five_multiples = range[(range % 5 == 0)]\n",
        "print(\"All the multiples of 3:\", five_multiples)\n",
        "five_sum = five_multiples.sum()\n",
        "print(\"Sum of all the multiples of 5:\", five_sum, \"\\n\\n\")\n",
        "multiples = range[(range % 3 == 0) | (range % 5 == 0)]\n",
        "print(\"All the multiples of 3 or 5:\", multiples)\n",
        "sum = multiples.sum()\n",
        "print(\"Sum of all the multiples of 3 or 5:\", sum)"
      ],
      "execution_count": null,
      "outputs": [
        {
          "output_type": "stream",
          "text": [
            "All the multiples of 3: [ 3  6  9 12 15 18 21 24 27 30 33 36 39 42 45 48 51 54 57 60 63 66 69 72\n",
            " 75 78 81 84 87 90 93 96 99]\n",
            "Sum of all the multiples of 3: 1683 \n",
            "\n",
            "\n",
            "All the multiples of 3: [ 5 10 15 20 25 30 35 40 45 50 55 60 65 70 75 80 85 90 95]\n",
            "Sum of all the multiples of 5: 950 \n",
            "\n",
            "\n",
            "All the multiples of 3 or 5: [ 3  5  6  9 10 12 15 18 20 21 24 25 27 30 33 35 36 39 40 42 45 48 50 51\n",
            " 54 55 57 60 63 65 66 69 70 72 75 78 80 81 84 85 87 90 93 95 96 99]\n",
            "Sum of all the multiples of 3 or 5: 2318\n"
          ],
          "name": "stdout"
        }
      ]
    },
    {
      "cell_type": "markdown",
      "metadata": {
        "id": "2CWJOsP24c34"
      },
      "source": [
        "**Q6. Consider the below array.**\n",
        "\n",
        "Q6.1. Write a code to swap column 1 with column 2.\n",
        "\n",
        "Q6.2. Write a code to swap row 0 with row 1."
      ]
    },
    {
      "cell_type": "code",
      "metadata": {
        "id": "3OG6X5Eg5KSM",
        "colab": {
          "base_uri": "https://localhost:8080/"
        },
        "outputId": "ae5a641a-eac8-46b7-c458-01c15991dd71"
      },
      "source": [
        "import numpy as np\n",
        "\n",
        "arr = np.arange(12).reshape(3,4)\n",
        "print(arr)"
      ],
      "execution_count": null,
      "outputs": [
        {
          "output_type": "stream",
          "text": [
            "[[ 0  1  2  3]\n",
            " [ 4  5  6  7]\n",
            " [ 8  9 10 11]]\n"
          ],
          "name": "stdout"
        }
      ]
    },
    {
      "cell_type": "code",
      "metadata": {
        "id": "Q-Q91DpO5YYW",
        "colab": {
          "base_uri": "https://localhost:8080/"
        },
        "outputId": "f05ee349-8e78-41af-a35d-66646429a4c3"
      },
      "source": [
        "# Type your solution here\n",
        "# Q6.1. Write a code to swap column 1 with column 2.\n",
        "new_array = arr[:,[1,0,2,3]]\n",
        "print(\"New array after swap column 1 with column 2 is: \\n\", new_array)\n",
        "# Q6.2. Write a code to swap row 0 with row 1.\n",
        "current_array = arr[[1,0,2],:]\n",
        "print(\"New array after swap row 0 with row 1 is: \\n\", current_array)"
      ],
      "execution_count": null,
      "outputs": [
        {
          "output_type": "stream",
          "text": [
            "New array after swap column 1 with column 2 is: \n",
            " [[ 1  0  2  3]\n",
            " [ 5  4  6  7]\n",
            " [ 9  8 10 11]]\n",
            "New array after swap row 0 with row 1 is: \n",
            " [[ 4  5  6  7]\n",
            " [ 0  1  2  3]\n",
            " [ 8  9 10 11]]\n"
          ],
          "name": "stdout"
        }
      ]
    }
  ]
}